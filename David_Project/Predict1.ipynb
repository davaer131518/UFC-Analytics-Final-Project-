{
 "cells": [
  {
   "cell_type": "code",
   "execution_count": 1,
   "metadata": {
    "ExecuteTime": {
     "end_time": "2018-12-05T18:39:44.425319Z",
     "start_time": "2018-12-05T18:39:39.881122Z"
    },
    "collapsed": true
   },
   "outputs": [],
   "source": [
    "import time\n",
    "import random\n",
    "import warnings\n",
    "import numpy as np\n",
    "import pandas as pd\n",
    "import seaborn as sns\n",
    "import scipy.stats as stats\n",
    "import matplotlib as matplot\n",
    "import matplotlib.pyplot as plt\n",
    "\n",
    "from collections import Counter\n",
    "\n",
    "from sklearn import preprocessing\n",
    "from sklearn.feature_selection import RFECV\n",
    "from sklearn.preprocessing import MaxAbsScaler\n",
    "from sklearn.tree import DecisionTreeClassifier\n",
    "from sklearn.neural_network import MLPClassifier\n",
    "from sklearn.preprocessing import StandardScaler\n",
    "from sklearn.neighbors import KNeighborsClassifier\n",
    "from sklearn.ensemble import RandomForestClassifier\n",
    "from sklearn.linear_model import LogisticRegression\n",
    "from sklearn.model_selection import train_test_split\n",
    "from sklearn.metrics import roc_auc_score, classification_report, make_scorer, accuracy_score\n",
    "from sklearn.model_selection import GridSearchCV, train_test_split, cross_val_score, cross_val_predict"
   ]
  },
  {
   "cell_type": "markdown",
   "metadata": {},
   "source": [
    "# Collect Data"
   ]
  },
  {
   "cell_type": "markdown",
   "metadata": {},
   "source": [
    "## Fighter Stats"
   ]
  },
  {
   "cell_type": "code",
   "execution_count": 2,
   "metadata": {
    "ExecuteTime": {
     "end_time": "2018-12-05T18:39:50.286777Z",
     "start_time": "2018-12-05T18:39:50.256368Z"
    },
    "code_folding": [],
    "collapsed": true
   },
   "outputs": [],
   "source": [
    "# Read\n",
    "fighter_stats = pd.read_csv(\"UFC_Fighters_Database.csv\")"
   ]
  },
  {
   "cell_type": "code",
   "execution_count": 3,
   "metadata": {
    "ExecuteTime": {
     "end_time": "2018-12-05T18:39:50.763135Z",
     "start_time": "2018-12-05T18:39:50.754655Z"
    },
    "collapsed": true
   },
   "outputs": [],
   "source": [
    "fighter_stats.set_index(\"NAME\", inplace = True)"
   ]
  },
  {
   "cell_type": "code",
   "execution_count": 4,
   "metadata": {
    "ExecuteTime": {
     "end_time": "2018-12-05T18:39:51.239745Z",
     "start_time": "2018-12-05T18:39:51.228383Z"
    },
    "collapsed": true
   },
   "outputs": [],
   "source": [
    "fighter_stats = fighter_stats[[\"REACH\" ,\"SLPM\" ,\"SAPM\" ,\"STRA\" ,\"STRD\" ,\"TD\" ,\"TDA\" ,\"TDD\" ,\"SUBA\"]]"
   ]
  },
  {
   "cell_type": "code",
   "execution_count": 5,
   "metadata": {
    "ExecuteTime": {
     "end_time": "2018-12-05T18:39:51.777996Z",
     "start_time": "2018-12-05T18:39:51.692096Z"
    },
    "collapsed": true
   },
   "outputs": [],
   "source": [
    "transformer_fighter_stats = MaxAbsScaler().fit(fighter_stats.values)\n",
    "transformed_fighter_stats_values = transformer_fighter_stats.transform(fighter_stats.values)\n",
    "fighter_stats.loc[:,:] = transformed_fighter_stats_values"
   ]
  },
  {
   "cell_type": "code",
   "execution_count": 6,
   "metadata": {
    "ExecuteTime": {
     "end_time": "2018-12-05T18:39:52.223847Z",
     "start_time": "2018-12-05T18:39:52.217857Z"
    },
    "collapsed": true
   },
   "outputs": [],
   "source": [
    "fighter_stats.index = [element.lower() for element in list(fighter_stats.index)]"
   ]
  },
  {
   "cell_type": "markdown",
   "metadata": {},
   "source": [
    "## Fight Stats"
   ]
  },
  {
   "cell_type": "code",
   "execution_count": 7,
   "metadata": {
    "ExecuteTime": {
     "end_time": "2018-12-05T18:39:55.390518Z",
     "start_time": "2018-12-05T18:39:55.336975Z"
    },
    "collapsed": true
   },
   "outputs": [],
   "source": [
    "# Fight Statistics\n",
    "%store -r ufc_1_raw"
   ]
  },
  {
   "cell_type": "code",
   "execution_count": 8,
   "metadata": {
    "ExecuteTime": {
     "end_time": "2018-12-05T18:39:55.974877Z",
     "start_time": "2018-12-05T18:39:55.955562Z"
    }
   },
   "outputs": [
    {
     "data": {
      "text/plain": [
       "Int64Index([4670, 4886, 5856, 5865, 6069, 6144, 6373, 6399], dtype='int64', name='Fight_ID')"
      ]
     },
     "execution_count": 8,
     "metadata": {},
     "output_type": "execute_result"
    }
   ],
   "source": [
    "ufc_1_raw[((ufc_1_raw[\"Name\"] == \"Dong Hyun Kim\") | (ufc_1_raw[\"Name\"] == \"Michael McDonald\"))].index"
   ]
  },
  {
   "cell_type": "code",
   "execution_count": 9,
   "metadata": {
    "ExecuteTime": {
     "end_time": "2018-12-05T18:39:56.604769Z",
     "start_time": "2018-12-05T18:39:56.581955Z"
    },
    "collapsed": true
   },
   "outputs": [],
   "source": [
    "ufc_1_raw.drop([4670, 4886, 5856, 5865, 6069, 6144, 6373, 6399], inplace= True)"
   ]
  },
  {
   "cell_type": "code",
   "execution_count": 10,
   "metadata": {
    "ExecuteTime": {
     "end_time": "2018-12-05T18:39:57.127869Z",
     "start_time": "2018-12-05T18:39:57.099782Z"
    },
    "collapsed": true
   },
   "outputs": [],
   "source": [
    "# Clean for numerical data\n",
    "round_data = ufc_1_raw.set_index(\"Name\")"
   ]
  },
  {
   "cell_type": "code",
   "execution_count": 11,
   "metadata": {
    "ExecuteTime": {
     "end_time": "2018-12-05T18:39:57.650246Z",
     "start_time": "2018-12-05T18:39:57.635364Z"
    },
    "collapsed": true
   },
   "outputs": [],
   "source": [
    "round_data.index = [element.lower() for element in list(round_data.index)]"
   ]
  },
  {
   "cell_type": "code",
   "execution_count": 12,
   "metadata": {
    "ExecuteTime": {
     "end_time": "2018-12-05T18:39:58.173230Z",
     "start_time": "2018-12-05T18:39:58.149546Z"
    },
    "collapsed": true
   },
   "outputs": [],
   "source": [
    "round_data.drop([\"Date\", \"Event_ID\", \"winby\", \"HomeTown\", \"Location\", \"ID\", \"winner\", \"corner\"], inplace = True, axis = 1)"
   ]
  },
  {
   "cell_type": "code",
   "execution_count": 13,
   "metadata": {
    "ExecuteTime": {
     "end_time": "2018-12-05T18:40:01.024308Z",
     "start_time": "2018-12-05T18:40:00.434478Z"
    },
    "collapsed": true
   },
   "outputs": [],
   "source": [
    "transformer_round_data = MaxAbsScaler().fit(round_data.values)\n",
    "transformed_round_data_values = transformer_round_data.transform(round_data.values)\n",
    "round_data.loc[:,:] = transformed_round_data_values"
   ]
  },
  {
   "cell_type": "code",
   "execution_count": 14,
   "metadata": {
    "ExecuteTime": {
     "end_time": "2018-12-05T18:40:01.531950Z",
     "start_time": "2018-12-05T18:40:01.508657Z"
    },
    "collapsed": true
   },
   "outputs": [],
   "source": [
    "fighters = np.unique(list(round_data.index))\n",
    "cols = list(round_data.columns)"
   ]
  },
  {
   "cell_type": "code",
   "execution_count": 15,
   "metadata": {
    "ExecuteTime": {
     "end_time": "2018-12-05T18:40:02.008848Z",
     "start_time": "2018-12-05T18:40:01.996890Z"
    },
    "code_folding": [
     0
    ],
    "collapsed": true
   },
   "outputs": [],
   "source": [
    "def average_fights(df): \n",
    "    \n",
    "    list_dfs = []\n",
    "    for fighter in fighters:\n",
    "        print(fighter)\n",
    "        if df.loc[fighter].shape[0] !=442:\n",
    "            df_new = pd.DataFrame(df.loc[fighter].mean(axis = 0, skipna = True))\n",
    "            df_new.columns = [fighter]\n",
    "            list_dfs.append(df_new)\n",
    "            \n",
    "        elif df.loc[fighter].shape[0] == 442:\n",
    "            list_dfs.append(pd.DataFrame(df.loc[fighter]))\n",
    "        \n",
    "    df_1 = pd.concat(list_dfs, axis = 1)\n",
    "    \n",
    "#     df_1.index = fighters\n",
    "#     df_1.columns = cols\n",
    "        \n",
    "    return df_1"
   ]
  },
  {
   "cell_type": "code",
   "execution_count": 16,
   "metadata": {
    "ExecuteTime": {
     "end_time": "2018-12-05T18:40:05.129949Z",
     "start_time": "2018-12-05T18:40:02.655820Z"
    }
   },
   "outputs": [
    {
     "name": "stdout",
     "output_type": "stream",
     "text": [
      "aaron phillips\n",
      "abdul razak alhassan\n",
      "abel trujillo\n",
      "abner lloveras\n",
      "adam milstead\n",
      "adriano martins\n",
      "aiemann zahabi\n",
      "aisling daly\n",
      "akbarh arreola\n",
      "akira corassani\n",
      "al iaquinta\n",
      "alan jouban\n",
      "alan omer\n",
      "alan patrick\n",
      "albert cheng\n",
      "albert morales\n",
      "albert tumenov\n",
      "alberto mina\n",
      "alberto uda\n",
      "alejandro perez\n",
      "aleksei oleinik\n",
      "alessandro ricci\n",
      "alessio di chirico\n",
      "alex caceres\n",
      "alex chambers\n",
      "alex garcia\n",
      "alex morono\n",
      "alex nicholson\n",
      "alex oliveira\n",
      "alex torres\n",
      "alex white\n",
      "alexa grasso\n",
      "alexander gustafsson\n",
      "alexander volkanovski\n",
      "alexander volkov\n",
      "alexander yakovlev\n",
      "alexandra albu\n",
      "alexandre pantoja\n",
      "alexis davis\n",
      "alexis dufresne\n",
      "ali bagautinov\n",
      "alistair overeem\n",
      "aljamain sterling\n",
      "alptekin ozkilic\n",
      "alvaro herrera\n",
      "amanda cooper\n",
      "amanda nunes\n",
      "an ying wang\n",
      "anderson silva\n",
      "andre fili\n",
      "andre soukhamthath\n",
      "andreas stahl\n",
      "andrei arlovski\n",
      "andrew craig\n",
      "andrew holbrook\n",
      "andrew sanchez\n",
      "andy enz\n",
      "andy ogle\n",
      "angela hill\n",
      "angela magana\n",
      "anna elmose\n",
      "anthony birchak\n",
      "anthony christodoulou\n",
      "anthony hamilton\n",
      "anthony johnson\n",
      "anthony lapsley\n",
      "anthony njokuani\n",
      "anthony perosh\n",
      "anthony pettis\n",
      "anthony smith\n",
      "anton zafir\n",
      "antonio braga neto\n",
      "antonio carlos junior\n",
      "antonio dos santos\n",
      "antonio silva\n",
      "arnold allen\n",
      "artem lobov\n",
      "ashlee evans-smith\n",
      "ashley yoder\n",
      "augusto mendes\n",
      "augusto montano\n",
      "bartosz fabinski\n",
      "bec rawlings\n",
      "belal muhammad\n",
      "ben nguyen\n",
      "ben rothwell\n",
      "ben saunders\n",
      "ben wall\n",
      "beneil dariush\n",
      "benson henderson\n",
      "bethe correia\n",
      "bigfoot silva\n",
      "bj penn\n",
      "bobby green\n",
      "bobby nash\n",
      "bobby voelker\n",
      "bojan mihajlovic\n",
      "bojan velickovic\n",
      "brad pickett\n",
      "brad tavares\n",
      "bradley scott\n",
      "brandon moreno\n",
      "brandon thatch\n",
      "brendan o'reilly\n",
      "brendan schaub\n",
      "brett johns\n",
      "brian camozzi\n",
      "brian ebersole\n",
      "brian houston\n",
      "brian ortega\n",
      "brock lesnar\n",
      "bruno korea\n",
      "bruno santos\n",
      "bryan barberena\n",
      "bryan caraway\n",
      "bubba mcdaniel\n",
      "cain carrizosa\n",
      "cain velasquez\n",
      "caio magalhaes\n",
      "carla esparza\n",
      "carlos condit\n",
      "carlos diego ferreira\n",
      "cat zingano\n",
      "cathal pendred\n",
      "cb dollaway\n",
      "cesar arzamendia\n",
      "cezar ferreira\n",
      "chad laprise\n",
      "chad mendes\n",
      "chan sung jung\n",
      "charles oliveira\n",
      "charles rosa\n",
      "charlie brenneman\n",
      "charlie ward\n",
      "chas skelly\n",
      "chase sherman\n",
      "chico camus\n",
      "chris avila\n",
      "chris beal\n",
      "chris camozzi\n",
      "chris cariaso\n",
      "chris clements\n",
      "chris de la rocha\n",
      "chris dempsey\n",
      "chris gruetzemacher\n",
      "chris heatherly\n",
      "chris holdsworth\n",
      "chris indich\n",
      "chris kelades\n",
      "chris wade\n",
      "chris weidman\n",
      "christian colombo\n",
      "christos giagos\n",
      "claudia gadelha\n",
      "claudio puelles\n",
      "claudio silva\n",
      "clay collard\n",
      "clay guida\n",
      "clint hester\n",
      "cm punk\n",
      "cody east\n",
      "cody garbrandt\n",
      "cody gibson\n",
      "cody pfister\n",
      "colby covington\n",
      "cole miller\n",
      "colton smith\n",
      "conor mcgregor\n",
      "corey anderson\n",
      "cortney casey\n",
      "cory hendricks\n",
      "costas philippou\n",
      "court mcgee\n",
      "cris cyborg\n",
      "cristiano marcello\n",
      "cristina stanciu\n",
      "cub swanson\n",
      "cung le\n",
      "curtis blaydes\n",
      "cynthia calvillo\n",
      "cyril asker\n",
      "cyrille diabate\n",
      "damian grabowski\n",
      "damian stasiak\n",
      "damien brown\n",
      "damir hadzovic\n",
      "damon jackson\n",
      "dan henderson\n",
      "dan hooker\n",
      "dan miller\n",
      "daniel cormier\n",
      "daniel jolly\n",
      "daniel kelly\n",
      "daniel omielanczuk\n",
      "daniel pineda\n",
      "daniel sarafian\n",
      "daniel spitz\n",
      "daniel spohn\n",
      "danielle taylor\n",
      "danny castillo\n",
      "danny martinez\n",
      "danny mitchell\n",
      "danny roberts\n",
      "daron cruickshank\n",
      "darrell horcher\n",
      "darrell montague\n",
      "darren elkins\n",
      "darren stewart\n",
      "darren till\n",
      "dashon johnson\n",
      "dave galera\n",
      "davey grant\n",
      "davi ramos\n",
      "david michaud\n",
      "david teymur\n",
      "demetrious johnson\n",
      "demian maia\n",
      "dennis bermudez\n",
      "dennis siver\n",
      "derek brunson\n",
      "derrick lewis\n",
      "desmond green\n",
      "devin clark\n",
      "devin powell\n",
      "dhiego lima\n",
      "diego brandao\n",
      "diego ferreira\n",
      "diego rivas\n",
      "diego sanchez\n",
      "dileno lopes\n",
      "dmitrii smoliakov\n",
      "dominic waters\n",
      "dominick cruz\n",
      "dominique steele\n",
      "donald cerrone\n",
      "dongi yang\n",
      "dooho choi\n",
      "douglas silva de andrade\n",
      "drakkar klose\n",
      "drew dober\n",
      "dustin kimura\n",
      "dustin ortiz\n",
      "dustin poirier\n",
      "dylan andrews\n",
      "ed herman\n",
      "eddie alvarez\n",
      "eddie gordon\n",
      "eddie wineland\n",
      "edgar garcia\n",
      "edson barboza\n",
      "efrain escudero\n",
      "elias silverio\n",
      "elias theodorou\n",
      "elizabeth phillips\n",
      "elizeu zaleski dos santos\n",
      "elvis mutapcic\n",
      "emil meek\n",
      "emily peters kagan\n",
      "enrique barzola\n",
      "enrique marin\n",
      "eric shelton\n",
      "eric spicely\n",
      "erick montano\n",
      "erick silva\n",
      "ericka almeida\n",
      "erik koch\n",
      "erik perez\n",
      "ernest chavez\n",
      "estevan payan\n",
      "evan dunham\n",
      "fabio maldonado\n",
      "fabricio camoes\n",
      "fabricio werdum\n",
      "felice herrig\n",
      "felipe arantes\n",
      "felipe olivieri\n",
      "felipe silva\n",
      "fernando bruno\n",
      "filip pejic\n",
      "francimar barroso\n",
      "francis carmont\n",
      "francis ngannou\n",
      "francisco rivera\n",
      "francisco trevino\n",
      "francisco trinaldo\n",
      "frank mir\n",
      "frankie edgar\n",
      "frankie perez\n",
      "frankie saenz\n",
      "fredy serrano\n",
      "gabriel benitez\n",
      "gabriel gonzaga\n",
      "gadzhimurad antigulov\n",
      "garett whiteley\n",
      "garreth mclellan\n",
      "gasan umalatov\n",
      "gavin tucker\n",
      "geane herrera\n",
      "gegard mousasi\n",
      "george roop\n",
      "george sullivan\n",
      "gerald meerschaert\n",
      "germaine de randamie\n",
      "gian villante\n",
      "gilbert burns\n",
      "gilbert melendez\n",
      "gina mazany\n",
      "glaico franca\n",
      "glaico franca moreira\n",
      "gleison tibau\n",
      "glover teixeira\n",
      "godofredo pepey\n",
      "gray maynard\n",
      "gregor gillespie\n",
      "guido cannetti\n",
      "guilherme vasconcelos\n",
      "gunnar nelson\n",
      "guto inocente\n",
      "hacran dias\n",
      "hans stringer\n",
      "hatsu hioki\n",
      "hayder hassan\n",
      "heather jo clark\n",
      "hector lombard\n",
      "hector sandoval\n",
      "hector urbina\n",
      "henrique da silva\n",
      "henry briones\n",
      "henry cejudo\n",
      "hernani perpetuo\n",
      "holly holm\n",
      "horacio gutierrez\n",
      "hugo viana\n",
      "humberto brown\n",
      "hyun gyu lim\n",
      "ian entwistle\n",
      "ian mccall\n",
      "igor araujo\n",
      "igor pokrajac\n",
      "ildemar alcantara\n",
      "ilir latifi\n",
      "ion cutelaba\n",
      "irene aldana\n",
      "isaac vallie-flagg\n",
      "islam makhachev\n",
      "iuri alcantara\n",
      "ivan jorge\n",
      "ivan menjivar\n",
      "izabela badurek\n",
      "jacare souza\n",
      "jack hermansson\n",
      "jack marshman\n",
      "jack may\n",
      "jake collier\n",
      "jake ellenberger\n",
      "jake lindsey\n",
      "jake matthews\n",
      "james krause\n",
      "james moontasri\n",
      "james te huna\n",
      "james vick\n",
      "jamie moyle\n",
      "jamie varner\n",
      "jan blachowicz\n",
      "jared cannonier\n",
      "jared rosholt\n",
      "jarjis danho\n",
      "jason gonzalez\n",
      "jason high\n",
      "jason knight\n",
      "jason novelli\n",
      "jason saggo\n",
      "jc cottrell\n",
      "jenel lausa\n",
      "jeremy kennedy\n",
      "jeremy kimball\n",
      "jeremy stephens\n",
      "jerrod sanders\n",
      "jessamyn duke\n",
      "jesse ronson\n",
      "jessica aguilar\n",
      "jessica andrade\n",
      "jessica eye\n",
      "jessica penne\n",
      "jessica rakoczy\n",
      "jessin ayari\n",
      "jim alers\n",
      "jim miller\n",
      "jimi manuwa\n",
      "jimmie rivera\n",
      "jimmy wallhead\n",
      "jimy hettes\n",
      "jj aldrich\n",
      "joachim christensen\n",
      "joanna jedrzejczyk\n",
      "joanne calderwood\n",
      "joaquim silva\n",
      "joby sanchez\n",
      "jocelyn jones-lybarger\n",
      "joe duffy\n",
      "joe ellenberger\n",
      "joe gigliotti\n",
      "joe lauzon\n",
      "joe merritt\n",
      "joe proctor\n",
      "joe riggs\n",
      "joe soto\n",
      "joey gomez\n",
      "john dodson\n",
      "john howard\n",
      "john lineker\n",
      "john makdessi\n",
      "john moraga\n",
      "johnny bedford\n",
      "johnny case\n",
      "johnny eduardo\n",
      "johny hendricks\n",
      "jon delos reyes\n",
      "jon jones\n",
      "jon tuck\n",
      "jonathan meunier\n",
      "jonathan wilson\n",
      "jonavin webb\n",
      "jordan johnson\n",
      "jordan mein\n",
      "jordan rinaldi\n",
      "jorge de oliveira\n",
      "jorge masvidal\n",
      "jose aldo\n",
      "jose quinonez\n",
      "joseph benavidez\n",
      "josh barnett\n",
      "josh copeland\n",
      "josh emmett\n",
      "josh koscheck\n",
      "josh samman\n",
      "josh sampo\n",
      "josh shockley\n",
      "josh stansbury\n",
      "josh thomson\n",
      "joshua burkman\n",
      "joshua sampo\n",
      "juan puig\n",
      "julian erosa\n",
      "juliana lima\n",
      "julianna pena\n",
      "jumabieke tuerxun\n",
      "junior dos santos\n",
      "junior hernandez\n",
      "jussier formiga\n",
      "justin edwards\n",
      "justin jones\n",
      "justin ledet\n",
      "justin salas\n",
      "justin scoggins\n",
      "justine kish\n",
      "kailin curran\n",
      "kajan johnson\n",
      "kamaru usman\n",
      "karolina kowalkiewicz\n",
      "katlyn chookagian\n",
      "katsunori kikuno\n",
      "kazuki tokudome\n",
      "keita nakamura\n",
      "keith berish\n",
      "kelly faszholz\n",
      "kelvin gastelum\n",
      "kenny robertson\n",
      "ketlen vieira\n",
      "kevin casey\n",
      "kevin lee\n",
      "kevin souza\n",
      "khabib nurmagomedov\n",
      "khalil rountree\n",
      "khalil rountree jr.\n",
      "kiichi kunimoto\n",
      "kj noons\n",
      "konstantin erokhin\n",
      "krzysztof jotko\n",
      "kwan ho kwak\n",
      "kyle bochniak\n",
      "kyle kingsbury\n",
      "kyle noke\n",
      "kyoji horiguchi\n",
      "kyung ho kang\n",
      "lance benoist\n",
      "lando vannata\n",
      "larissa pacheco\n",
      "lauren murphy\n",
      "leandro issa\n",
      "leandro silva\n",
      "leo kuntz\n",
      "leon edwards\n",
      "leonardo augusto leleco\n",
      "leonardo mafra\n",
      "leonardo morales\n",
      "leonardo santos\n",
      "leslie smith\n",
      "levan makashvili\n",
      "lewis gonzalez\n",
      "li jingliang\n",
      "lina lansberg\n",
      "lipeng zhang\n",
      "lisa ellis\n",
      "liz carmouche\n",
      "lorenz larkin\n",
      "louis gaudinot\n",
      "louis smolka\n",
      "luan chagas\n",
      "lucas martins\n",
      "lucie pudilova\n",
      "luis henrique\n",
      "luiz dutra\n",
      "lukasz sajewski\n",
      "luke barnatt\n",
      "luke rockhold\n",
      "luke sanders\n",
      "luke zachrich\n",
      "lyman good\n",
      "lyoto machida\n",
      "magnus cedenblad\n",
      "magomed bibulatov\n",
      "magomed mustafaev\n",
      "mairbek taisumov\n",
      "makwan amirkhani\n",
      "manvel gamburyan\n",
      "marc diakiese\n",
      "marcel fortuna\n",
      "marcelo guimaraes\n",
      "marcin bandel\n",
      "marcin held\n",
      "marcin tybura\n",
      "marcin wrzosek\n",
      "marcio alexandre\n",
      "marcio alexandre junior\n",
      "marco beltran\n",
      "marcos rogerio de lima\n",
      "marcus brimage\n",
      "marion reneau\n",
      "mark bocek\n",
      "mark eddiva\n",
      "mark godbeer\n",
      "mark hunt\n",
      "mark munoz\n",
      "marlon vera\n",
      "martin bravo\n",
      "martin svensson\n",
      "marvin vettori\n",
      "maryna moroz\n",
      "masanori kanehara\n",
      "masio fullen\n",
      "matheus nicolau\n",
      "mats nilsson\n",
      "matt brown\n",
      "matt dwyer\n",
      "matt hobar\n",
      "matt mitrione\n",
      "matt schnell\n",
      "matt van buren\n",
      "matt wiman\n",
      "matthew lopez\n",
      "mauricio rua\n",
      "max griffin\n",
      "max holloway\n",
      "maximo blanco\n",
      "mehdi baghdad\n",
      "melvin guillard\n",
      "michael bisping\n",
      "michael chiesa\n",
      "michael graves\n",
      "michael johnson\n",
      "michael mcbride\n",
      "michel prazeres\n",
      "michelle waterson\n",
      "michinori tanaka\n",
      "mickael lebout\n",
      "mickey gall\n",
      "miesha tate\n",
      "mike de la torre\n",
      "mike easton\n",
      "mike jackson\n",
      "mike king\n",
      "mike perry\n",
      "mike pierce\n",
      "mike pyle\n",
      "mike rhodes\n",
      "mike rio\n",
      "mike swick\n",
      "mike wilkinson\n",
      "milana dudieva\n",
      "minotauro nogueira\n",
      "mirko cro cop\n",
      "mirsad bektic\n",
      "misha cirkunov\n",
      "mitch clarke\n",
      "mitch gagnon\n"
     ]
    },
    {
     "name": "stdout",
     "output_type": "stream",
     "text": [
      "mizuto hirota\n",
      "myles jury\n",
      "nam phan\n",
      "naoyuki kotani\n",
      "nate diaz\n",
      "nate marquardt\n",
      "nathan coy\n",
      "nazareno malegarie\n",
      "neil magny\n",
      "neil seery\n",
      "nick catone\n",
      "nick diaz\n",
      "nick hein\n",
      "nico musoke\n",
      "nicolas dalby\n",
      "nik lentz\n",
      "nikita krylov\n",
      "niklas backstrom\n",
      "niko price\n",
      "nina ansaroff\n",
      "ning guangyou\n",
      "noad lahat\n",
      "nolan ticman\n",
      "nordine taleb\n",
      "norifumi yamamoto\n",
      "norman parke\n",
      "olivier aubin-mercier\n",
      "oluwale bamgbose\n",
      "omari akhmedov\n",
      "ovince saint preux\n",
      "paddy holohan\n",
      "paige vanzant\n",
      "pat healy\n",
      "patrick cote\n",
      "patrick cummins\n",
      "patrick holohan\n",
      "patrick walsh\n",
      "patrick williams\n",
      "paul craig\n",
      "paul felder\n",
      "paul redmond\n",
      "paulo borrachinha\n",
      "paulo thiago\n",
      "pawel pawlak\n",
      "pearl gonzalez\n",
      "pedro munhoz\n",
      "peter sobotta\n",
      "phil davis\n",
      "phil harris\n",
      "phillipe nover\n",
      "piotr hallmann\n",
      "polo reyes\n",
      "quinn mulhern\n",
      "rafael dos anjos\n",
      "rafael feijao\n",
      "rafael natal\n",
      "rafaello oliveira\n",
      "rampage jackson\n",
      "ramsey nijem\n",
      "randa markos\n",
      "randy brown\n",
      "rani yahya\n",
      "raphael assuncao\n",
      "raquel pennington\n",
      "rashad evans\n",
      "rashid magomedov\n",
      "ray borg\n",
      "reginaldo vieira\n",
      "renan barao\n",
      "renato moicano\n",
      "renee forte\n",
      "reza madadi\n",
      "ricardo abreu\n",
      "ricardo lamas\n",
      "ricardo ramos\n",
      "richard walsh\n",
      "richardson moreira\n",
      "richie vaculik\n",
      "rick glenn\n",
      "rick story\n",
      "rin nakai\n",
      "roan carneiro\n",
      "rob font\n",
      "rob whiteford\n",
      "robbie lawler\n",
      "robert peralta\n",
      "robert whittaker\n",
      "rocky lee\n",
      "rodolfo rubio\n",
      "rodrigo damm\n",
      "rodrigo de lima\n",
      "roger narvaez\n",
      "roger zapata\n",
      "rogerio nogueira\n",
      "roland delorme\n",
      "roldan sangcha-an\n",
      "roman salazar\n",
      "ron stallings\n",
      "ronda rousey\n",
      "ronny markes\n",
      "rony jason\n",
      "rory macdonald\n",
      "rose namajunas\n",
      "ross pearson\n",
      "roy nelson\n",
      "royston wee\n",
      "ruan potts\n",
      "ruon potts\n",
      "ruslan magomedov\n",
      "russell doane\n",
      "rustam khabilov\n",
      "ryan bader\n",
      "ryan benoit\n",
      "ryan hall\n",
      "ryan janes\n",
      "ryan jimmo\n",
      "ryan laflare\n",
      "sabah homasi\n",
      "sage northcutt\n",
      "sai wang\n",
      "sam alvey\n",
      "sam sicilia\n",
      "sam stout\n",
      "santiago ponzinibbio\n",
      "saparbeg safarov\n",
      "sara mcmann\n",
      "sarah kaufman\n",
      "sarah moras\n",
      "scott askham\n",
      "scott holtzman\n",
      "scott jorgensen\n",
      "sean o'connell\n",
      "sean soriano\n",
      "sean spencer\n",
      "sean strickland\n",
      "seohee ham\n",
      "sergio moraes\n",
      "sergio pettis\n",
      "seth baczynski\n",
      "shamil abdurakhimov\n",
      "shane burgos\n",
      "shane campbell\n",
      "shane howell\n",
      "shawn jordan\n",
      "shayna baszler\n",
      "sheldon westcott\n",
      "shinsho anzai\n",
      "shunichi shimizu\n",
      "sirwan kakai\n",
      "siyar bahadurzada\n",
      "soa palelei\n",
      "stefan struve\n",
      "stephen thompson\n",
      "steve bosse\n",
      "steve kennedy\n",
      "steve montgomery\n",
      "steven siler\n",
      "stevie ray\n",
      "stipe miocic\n",
      "sultan aliev\n",
      "t.j. dillashaw\n",
      "tae hyun bang\n",
      "takanori gomi\n",
      "takenori sato\n",
      "takeya mizugaki\n",
      "tamdan mccrory\n",
      "tarec saffiedine\n",
      "tateki matsuda\n",
      "tatiana suarez\n",
      "tatsuya kawajiri\n",
      "taylor lapilus\n",
      "tecia torres\n",
      "teemu packalen\n",
      "teruto ishihara\n",
      "thales leites\n",
      "thiago alves\n",
      "thiago perpetuo\n",
      "thiago santos\n",
      "thiago tavares\n",
      "thibault gouti\n",
      "thomas almeida\n",
      "tiago trator\n",
      "tim boetsch\n",
      "tim elliott\n",
      "tim gorman\n",
      "tim johnson\n",
      "tim kennedy\n",
      "tim means\n",
      "tina lahdemaki\n",
      "tj dillashaw\n",
      "tj waldburger\n",
      "todd duffee\n",
      "tom breese\n",
      "tom duquesnoy\n",
      "tom lawlor\n",
      "tom niinimaki\n",
      "tom watson\n",
      "tony ferguson\n",
      "tony martin\n",
      "tony sims\n",
      "tor troeng\n",
      "travis browne\n",
      "trevor smith\n",
      "tyron woodley\n",
      "tyson pedro\n",
      "ulka sasaki\n",
      "uriah hall\n",
      "urijah faber\n",
      "vagner rocha\n",
      "valentina shevchenko\n",
      "valerie letourneau\n",
      "valmir lazaro\n",
      "vaughan lee\n",
      "vernon ramos\n",
      "veronica macedo\n",
      "vicente luque\n",
      "vik grujic\n",
      "viktor pesta\n",
      "vinc pichel\n",
      "viscardi andrade\n",
      "vitor belfort\n",
      "vitor miranda\n",
      "viviane pereira\n",
      "volkan oezdemir\n",
      "wagner silva\n",
      "walt harris\n",
      "warlley alves\n",
      "wendell oliveira\n",
      "will brooks\n",
      "will campuzano\n",
      "will chope\n",
      "william patolino\n",
      "willie gates\n",
      "wilson reis\n",
      "yair rodriguez\n",
      "yan cabral\n",
      "yancy medeiros\n",
      "yao zhikui\n",
      "yaotzin meza\n",
      "yoel romero\n",
      "yosdenis cedeno\n",
      "yoshihiro akiyama\n",
      "yui chul nam\n",
      "yusuke kasuya\n",
      "yuta sasaki\n",
      "yves edwards\n",
      "yves jabouin\n",
      "zach makovsky\n",
      "zak cummings\n",
      "zak ottow\n",
      "zhang lipeng\n",
      "zubaira tukhugov\n"
     ]
    }
   ],
   "source": [
    "averaged_fighter_performance = average_fights(round_data)"
   ]
  },
  {
   "cell_type": "code",
   "execution_count": 17,
   "metadata": {
    "ExecuteTime": {
     "end_time": "2018-12-05T18:40:05.190945Z",
     "start_time": "2018-12-05T18:40:05.135042Z"
    },
    "collapsed": true
   },
   "outputs": [],
   "source": [
    "averaged_fighter_performance = averaged_fighter_performance.T"
   ]
  },
  {
   "cell_type": "markdown",
   "metadata": {},
   "source": [
    "## Combine Performance and Profile Stats"
   ]
  },
  {
   "cell_type": "code",
   "execution_count": 18,
   "metadata": {
    "ExecuteTime": {
     "end_time": "2018-12-05T18:40:09.081312Z",
     "start_time": "2018-12-05T18:40:09.073079Z"
    },
    "collapsed": true
   },
   "outputs": [],
   "source": [
    "del fighter_stats.index.name"
   ]
  },
  {
   "cell_type": "code",
   "execution_count": 19,
   "metadata": {
    "ExecuteTime": {
     "end_time": "2018-12-05T18:40:09.649927Z",
     "start_time": "2018-12-05T18:40:09.637031Z"
    },
    "collapsed": true
   },
   "outputs": [],
   "source": [
    "intersect_perf_prof_index = fighter_stats.index.intersection(averaged_fighter_performance.index)"
   ]
  },
  {
   "cell_type": "code",
   "execution_count": 20,
   "metadata": {
    "ExecuteTime": {
     "end_time": "2018-12-05T18:40:10.726009Z",
     "start_time": "2018-12-05T18:40:10.490574Z"
    },
    "collapsed": true
   },
   "outputs": [],
   "source": [
    "smaller_performance = averaged_fighter_performance.drop([element for element in list(averaged_fighter_performance.index) \n",
    "                                                         if element not in list(intersect_perf_prof_index)], axis = 0)\n",
    "\n",
    "smaller_profile = fighter_stats.drop([element for element in list(fighter_stats.index) \n",
    "                                      if element not in list(intersect_perf_prof_index)], axis = 0)"
   ]
  },
  {
   "cell_type": "code",
   "execution_count": 21,
   "metadata": {
    "ExecuteTime": {
     "end_time": "2018-12-05T18:40:11.402484Z",
     "start_time": "2018-12-05T18:40:11.383141Z"
    },
    "collapsed": true
   },
   "outputs": [],
   "source": [
    "smaller_performance.sort_index(inplace = True)"
   ]
  },
  {
   "cell_type": "code",
   "execution_count": 22,
   "metadata": {
    "ExecuteTime": {
     "end_time": "2018-12-05T18:40:12.017975Z",
     "start_time": "2018-12-05T18:40:11.937294Z"
    }
   },
   "outputs": [
    {
     "name": "stderr",
     "output_type": "stream",
     "text": [
      "C:\\Anaconda\\lib\\site-packages\\ipykernel_launcher.py:1: SettingWithCopyWarning: \n",
      "A value is trying to be set on a copy of a slice from a DataFrame\n",
      "\n",
      "See the caveats in the documentation: http://pandas.pydata.org/pandas-docs/stable/indexing.html#indexing-view-versus-copy\n",
      "  \"\"\"Entry point for launching an IPython kernel.\n"
     ]
    }
   ],
   "source": [
    "smaller_profile.sort_index(inplace = True)"
   ]
  },
  {
   "cell_type": "code",
   "execution_count": 23,
   "metadata": {
    "ExecuteTime": {
     "end_time": "2018-12-05T18:40:13.878663Z",
     "start_time": "2018-12-05T18:40:13.859749Z"
    },
    "collapsed": true
   },
   "outputs": [],
   "source": [
    "count_names = Counter(smaller_performance.index)\n",
    "count_names_2 = Counter(smaller_profile.index)"
   ]
  },
  {
   "cell_type": "code",
   "execution_count": 24,
   "metadata": {
    "ExecuteTime": {
     "end_time": "2018-12-05T18:40:14.417466Z",
     "start_time": "2018-12-05T18:40:14.412534Z"
    },
    "collapsed": true
   },
   "outputs": [],
   "source": [
    "for name, count in count_names_2.items():\n",
    "    if count != 1:\n",
    "        print(name)"
   ]
  },
  {
   "cell_type": "markdown",
   "metadata": {},
   "source": [
    "## Merge databases and label winner"
   ]
  },
  {
   "cell_type": "code",
   "execution_count": 25,
   "metadata": {
    "ExecuteTime": {
     "end_time": "2018-12-05T18:40:17.433031Z",
     "start_time": "2018-12-05T18:40:17.413662Z"
    },
    "collapsed": true
   },
   "outputs": [],
   "source": [
    "# Merge two datasets\n",
    "prof_perf = smaller_profile.join(smaller_performance, how='inner')"
   ]
  },
  {
   "cell_type": "code",
   "execution_count": 26,
   "metadata": {
    "ExecuteTime": {
     "end_time": "2018-12-05T18:40:17.955788Z",
     "start_time": "2018-12-05T18:40:17.932477Z"
    },
    "collapsed": true
   },
   "outputs": [],
   "source": [
    "%store -r ufc_2_raw"
   ]
  },
  {
   "cell_type": "code",
   "execution_count": 27,
   "metadata": {
    "ExecuteTime": {
     "end_time": "2018-12-05T18:40:18.462798Z",
     "start_time": "2018-12-05T18:40:18.447424Z"
    },
    "collapsed": true
   },
   "outputs": [],
   "source": [
    "ufc_1_raw_1 = ufc_1_raw[[\"winner\", \"corner\", \"Name\"]]"
   ]
  },
  {
   "cell_type": "code",
   "execution_count": 28,
   "metadata": {
    "ExecuteTime": {
     "end_time": "2018-12-05T18:40:19.248175Z",
     "start_time": "2018-12-05T18:40:19.232882Z"
    },
    "collapsed": true
   },
   "outputs": [],
   "source": [
    "fights = np.unique(list(ufc_1_raw_1.index))"
   ]
  },
  {
   "cell_type": "code",
   "execution_count": 29,
   "metadata": {
    "ExecuteTime": {
     "end_time": "2018-12-05T18:40:23.221080Z",
     "start_time": "2018-12-05T18:40:21.620251Z"
    },
    "collapsed": true
   },
   "outputs": [],
   "source": [
    "fights_name = []\n",
    "\n",
    "for fight in fights:\n",
    "    \n",
    "    fighters = [element.lower() for element in list(ufc_1_raw_1.loc[fight][\"Name\"].values)]\n",
    "    \n",
    "    if (list(ufc_1_raw_1.loc[fight].values)[0][0] == list(ufc_1_raw_1.loc[fight].values)[0][1]):\n",
    "        fighters.append(1)\n",
    "    \n",
    "    else:\n",
    "        fighters.append(0)\n",
    "    \n",
    "    fights_name.append(fighters)\n",
    "        "
   ]
  },
  {
   "cell_type": "markdown",
   "metadata": {},
   "source": [
    "## Create training data dataframe"
   ]
  },
  {
   "cell_type": "code",
   "execution_count": 30,
   "metadata": {
    "ExecuteTime": {
     "end_time": "2018-12-05T18:40:26.897151Z",
     "start_time": "2018-12-05T18:40:26.887728Z"
    },
    "collapsed": true
   },
   "outputs": [],
   "source": [
    "def make_training_set(df, labels):\n",
    "    \n",
    "    matrix = []\n",
    "    for label in labels:\n",
    "        \n",
    "        try:\n",
    "            row = [label[2]] + list(df.loc[label[0]].values) + list(df.loc[label[1]].values)\n",
    "            matrix.append(np.array(row))\n",
    "        except KeyError:\n",
    "            continue\n",
    "    \n",
    "    return np.array(matrix)"
   ]
  },
  {
   "cell_type": "code",
   "execution_count": 31,
   "metadata": {
    "ExecuteTime": {
     "end_time": "2018-12-05T18:40:28.496411Z",
     "start_time": "2018-12-05T18:40:27.475157Z"
    },
    "collapsed": true
   },
   "outputs": [],
   "source": [
    "data_for_training = make_training_set(prof_perf, fights_name)"
   ]
  },
  {
   "cell_type": "code",
   "execution_count": 32,
   "metadata": {
    "ExecuteTime": {
     "end_time": "2018-12-05T18:40:29.388301Z",
     "start_time": "2018-12-05T18:40:29.378905Z"
    },
    "collapsed": true
   },
   "outputs": [],
   "source": [
    "y = data_for_training[:,0]"
   ]
  },
  {
   "cell_type": "code",
   "execution_count": 33,
   "metadata": {
    "ExecuteTime": {
     "end_time": "2018-12-05T18:40:29.818865Z",
     "start_time": "2018-12-05T18:40:29.812878Z"
    },
    "collapsed": true
   },
   "outputs": [],
   "source": [
    "X = data_for_training[:,1:]"
   ]
  },
  {
   "cell_type": "code",
   "execution_count": 34,
   "metadata": {
    "ExecuteTime": {
     "end_time": "2018-12-05T18:40:30.264737Z",
     "start_time": "2018-12-05T18:40:30.213150Z"
    },
    "collapsed": true
   },
   "outputs": [],
   "source": [
    "X_train, X_test, y_train, y_test = train_test_split(X, y, test_size=0.30, random_state=42)"
   ]
  },
  {
   "cell_type": "markdown",
   "metadata": {},
   "source": [
    "## Train"
   ]
  },
  {
   "cell_type": "markdown",
   "metadata": {},
   "source": [
    "### Random neural network"
   ]
  },
  {
   "cell_type": "code",
   "execution_count": 103,
   "metadata": {
    "ExecuteTime": {
     "end_time": "2018-12-05T19:33:38.610153Z",
     "start_time": "2018-12-05T19:33:35.627704Z"
    }
   },
   "outputs": [
    {
     "data": {
      "text/plain": [
       "MLPClassifier(activation='relu', alpha=0.0001, batch_size='auto', beta_1=0.9,\n",
       "       beta_2=0.999, early_stopping=False, epsilon=1e-08,\n",
       "       hidden_layer_sizes=(100,), learning_rate='constant',\n",
       "       learning_rate_init=0.001, max_iter=200, momentum=0.9,\n",
       "       nesterovs_momentum=True, power_t=0.5, random_state=None,\n",
       "       shuffle=True, solver='adam', tol=0.0001, validation_fraction=0.1,\n",
       "       verbose=False, warm_start=False)"
      ]
     },
     "execution_count": 103,
     "metadata": {},
     "output_type": "execute_result"
    }
   ],
   "source": [
    "clf = MLPClassifier()\n",
    "\n",
    "clf.fit(X_train, y_train) "
   ]
  },
  {
   "cell_type": "code",
   "execution_count": 104,
   "metadata": {
    "ExecuteTime": {
     "end_time": "2018-12-05T19:33:39.117366Z",
     "start_time": "2018-12-05T19:33:39.108439Z"
    },
    "collapsed": true
   },
   "outputs": [],
   "source": [
    "y_pred = clf.predict(X_test)"
   ]
  },
  {
   "cell_type": "code",
   "execution_count": 105,
   "metadata": {
    "ExecuteTime": {
     "end_time": "2018-12-05T19:33:39.640038Z",
     "start_time": "2018-12-05T19:33:39.620693Z"
    }
   },
   "outputs": [
    {
     "data": {
      "text/plain": [
       "0.7208237986270023"
      ]
     },
     "execution_count": 105,
     "metadata": {},
     "output_type": "execute_result"
    }
   ],
   "source": [
    "accuracy_score(y_test, y_pred)"
   ]
  },
  {
   "cell_type": "code",
   "execution_count": 106,
   "metadata": {
    "ExecuteTime": {
     "end_time": "2018-12-05T19:33:40.424268Z",
     "start_time": "2018-12-05T19:33:40.409849Z"
    },
    "collapsed": true
   },
   "outputs": [],
   "source": [
    "def predict_winner(name_1, name_2):\n",
    "    \n",
    "    row = list(prof_perf.loc[name_1.lower()].values) + list(prof_perf.loc[name_2.lower()].values)\n",
    "    \n",
    "    score = clf.predict([row])\n",
    "    \n",
    "    if score == [1]:\n",
    "        \n",
    "        statement = \"The winner is \" + name_1\n",
    "        \n",
    "    else:\n",
    "        \n",
    "        statement = \"The winner is \" + name_2\n",
    "\n",
    "    \n",
    "    return statement"
   ]
  },
  {
   "cell_type": "code",
   "execution_count": 108,
   "metadata": {
    "ExecuteTime": {
     "end_time": "2018-12-05T19:33:52.687465Z",
     "start_time": "2018-12-05T19:33:52.669114Z"
    }
   },
   "outputs": [
    {
     "data": {
      "text/plain": [
       "'The winner is Jon Jones'"
      ]
     },
     "execution_count": 108,
     "metadata": {},
     "output_type": "execute_result"
    }
   ],
   "source": [
    "predict_winner(\"Jon Jones\",\"Daniel Cormier\")"
   ]
  },
  {
   "cell_type": "markdown",
   "metadata": {},
   "source": [
    "### GridSearch NN"
   ]
  },
  {
   "cell_type": "code",
   "execution_count": 52,
   "metadata": {
    "ExecuteTime": {
     "end_time": "2018-12-05T16:03:59.791143Z",
     "start_time": "2018-12-05T16:03:59.784328Z"
    },
    "collapsed": true
   },
   "outputs": [],
   "source": [
    "hidden_layer_tuples = []\n",
    "\n",
    "for n in np.arange(100) + 1:\n",
    "    hidden_layer_tuples.append((random.choice(np.arange(100) + 1), random.choice(np.arange(100) + 1)))\n",
    "\n",
    "hidden_layer_tuples = hidden_layer_tuples + [(5,2)]"
   ]
  },
  {
   "cell_type": "code",
   "execution_count": null,
   "metadata": {
    "ExecuteTime": {
     "start_time": "2018-12-05T16:04:03.275Z"
    }
   },
   "outputs": [
    {
     "name": "stderr",
     "output_type": "stream",
     "text": [
      "/Users/armenmartirosyan/anaconda3/lib/python3.6/site-packages/sklearn/neural_network/multilayer_perceptron.py:564: ConvergenceWarning: Stochastic Optimizer: Maximum iterations (200) reached and the optimization hasn't converged yet.\n",
      "  % self.max_iter, ConvergenceWarning)\n",
      "/Users/armenmartirosyan/anaconda3/lib/python3.6/site-packages/sklearn/neural_network/multilayer_perceptron.py:564: ConvergenceWarning: Stochastic Optimizer: Maximum iterations (200) reached and the optimization hasn't converged yet.\n",
      "  % self.max_iter, ConvergenceWarning)\n",
      "/Users/armenmartirosyan/anaconda3/lib/python3.6/site-packages/sklearn/neural_network/multilayer_perceptron.py:564: ConvergenceWarning: Stochastic Optimizer: Maximum iterations (202) reached and the optimization hasn't converged yet.\n",
      "  % self.max_iter, ConvergenceWarning)\n",
      "/Users/armenmartirosyan/anaconda3/lib/python3.6/site-packages/sklearn/neural_network/multilayer_perceptron.py:564: ConvergenceWarning: Stochastic Optimizer: Maximum iterations (206) reached and the optimization hasn't converged yet.\n",
      "  % self.max_iter, ConvergenceWarning)\n",
      "/Users/armenmartirosyan/anaconda3/lib/python3.6/site-packages/sklearn/neural_network/multilayer_perceptron.py:564: ConvergenceWarning: Stochastic Optimizer: Maximum iterations (210) reached and the optimization hasn't converged yet.\n",
      "  % self.max_iter, ConvergenceWarning)\n",
      "/Users/armenmartirosyan/anaconda3/lib/python3.6/site-packages/sklearn/neural_network/multilayer_perceptron.py:564: ConvergenceWarning: Stochastic Optimizer: Maximum iterations (213) reached and the optimization hasn't converged yet.\n",
      "  % self.max_iter, ConvergenceWarning)\n",
      "/Users/armenmartirosyan/anaconda3/lib/python3.6/site-packages/sklearn/neural_network/multilayer_perceptron.py:564: ConvergenceWarning: Stochastic Optimizer: Maximum iterations (222) reached and the optimization hasn't converged yet.\n",
      "  % self.max_iter, ConvergenceWarning)\n",
      "/Users/armenmartirosyan/anaconda3/lib/python3.6/site-packages/sklearn/neural_network/multilayer_perceptron.py:564: ConvergenceWarning: Stochastic Optimizer: Maximum iterations (233) reached and the optimization hasn't converged yet.\n",
      "  % self.max_iter, ConvergenceWarning)\n",
      "/Users/armenmartirosyan/anaconda3/lib/python3.6/site-packages/sklearn/neural_network/multilayer_perceptron.py:564: ConvergenceWarning: Stochastic Optimizer: Maximum iterations (237) reached and the optimization hasn't converged yet.\n",
      "  % self.max_iter, ConvergenceWarning)\n",
      "/Users/armenmartirosyan/anaconda3/lib/python3.6/site-packages/sklearn/neural_network/multilayer_perceptron.py:564: ConvergenceWarning: Stochastic Optimizer: Maximum iterations (238) reached and the optimization hasn't converged yet.\n",
      "  % self.max_iter, ConvergenceWarning)\n"
     ]
    }
   ],
   "source": [
    "mlp = MLPClassifier()\n",
    "\n",
    "parameter_space = {\n",
    "    'max_iter': np.arange(200, 5000),\n",
    "    'hidden_layer_sizes': hidden_layer_tuples,\n",
    "    'activation': ['identity', 'logistic', 'tanh', 'relu'],\n",
    "    'solver': ['lbfgs', 'sgd', 'adam'],\n",
    "    'alpha': [0.0001, 0.05, 0.001],\n",
    "    'learning_rate': ['constant','adaptive'],\n",
    "}\n",
    "\n",
    "grd = GridSearchCV(mlp, parameter_space, n_jobs =- 1, cv = 5)\n",
    "grd.fit(X_train, y_train)\n",
    "\n",
    "# Best paramete set\n",
    "print('Best parameters found:\\n', clf.best_params_)\n",
    "\n",
    "# All results\n",
    "means = grd.cv_results_['mean_test_score']\n",
    "stds = grd.cv_results_['std_test_score']\n",
    "for mean, std, params in zip(means, stds, clf.cv_results_['params']):\n",
    "    print(\"%0.3f (+/-%0.03f) for %r\" % (mean, std * 2, params))\n",
    "    \n",
    "y_true, y_pred = y_test , clf.predict(X_test)\n",
    "\n",
    "print('Results on the test set:')\n",
    "print(classification_report(y_true, y_pred))"
   ]
  },
  {
   "cell_type": "code",
   "execution_count": null,
   "metadata": {
    "collapsed": true
   },
   "outputs": [],
   "source": []
  }
 ],
 "metadata": {
  "hide_input": false,
  "kernelspec": {
   "display_name": "Python 3",
   "language": "python",
   "name": "python3"
  },
  "language_info": {
   "codemirror_mode": {
    "name": "ipython",
    "version": 3
   },
   "file_extension": ".py",
   "mimetype": "text/x-python",
   "name": "python",
   "nbconvert_exporter": "python",
   "pygments_lexer": "ipython3",
   "version": "3.6.3"
  },
  "latex_envs": {
   "LaTeX_envs_menu_present": true,
   "autoclose": false,
   "autocomplete": true,
   "bibliofile": "biblio.bib",
   "cite_by": "apalike",
   "current_citInitial": 1,
   "eqLabelWithNumbers": true,
   "eqNumInitial": 1,
   "hotkeys": {
    "equation": "Ctrl-E",
    "itemize": "Ctrl-I"
   },
   "labels_anchors": false,
   "latex_user_defs": false,
   "report_style_numbering": false,
   "user_envs_cfg": false
  },
  "toc": {
   "base_numbering": 1,
   "nav_menu": {},
   "number_sections": true,
   "sideBar": true,
   "skip_h1_title": false,
   "title_cell": "Table of Contents",
   "title_sidebar": "Contents",
   "toc_cell": false,
   "toc_position": {},
   "toc_section_display": true,
   "toc_window_display": false
  }
 },
 "nbformat": 4,
 "nbformat_minor": 2
}
